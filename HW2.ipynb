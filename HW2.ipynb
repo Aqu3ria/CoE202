{
 "cells": [
  {
   "cell_type": "markdown",
   "metadata": {
    "id": "25o5B9FWKnhW"
   },
   "source": [
    "You are asked to answer each question by completing the code.\n",
    "*   Please make sure that your code will work fine when the grader executes \"Restart and run all\"\n",
    "*   Also make sure that your code won't output anything else but the result asked in the question"
   ]
  },
  {
   "cell_type": "markdown",
   "metadata": {
    "id": "pBHjFHw9s7Fu"
   },
   "source": [
    "You can start with importing some useful libraries:"
   ]
  },
  {
   "cell_type": "code",
   "execution_count": 28,
   "metadata": {
    "id": "tl0RytSRcrxp"
   },
   "outputs": [],
   "source": [
    "import numpy as np\n",
    "import scipy.stats\n",
    "from matplotlib import pyplot\n",
    "from scipy.optimize import minimize\n",
    "from scipy.stats import beta"
   ]
  },
  {
   "cell_type": "markdown",
   "metadata": {
    "id": "pdqBCwLEdQx8"
   },
   "source": [
    "# 1. Demand Estimation for Newsvendor Problem"
   ]
  },
  {
   "cell_type": "markdown",
   "metadata": {
    "id": "ew9s3rHneZ7o"
   },
   "source": [
    "We are trying to identify the distribution of daily demand on newspaper, hoping that the newsboy can make better decisions based on the estimation results.\n",
    "\n",
    "Let $D_1, D_2, \\ldots, D_n$ be the random variables representing the daily demands across $n$ days, i.e., the number of people who want to buy newspapers on day 1, day 2, $\\ldots$, day $n$.\n",
    "\n",
    "We assume that the daily demands are independently drawn from a geometric distribution with mean $1/\\theta$:\n",
    "$$ D_i \\stackrel{iid}{\\sim} \\text{Geometric}(\\theta), \\quad \\text{for } i=1,2,\\ldots,n. $$\n",
    "where $\\theta \\in (0,1)$ is the *unknown model parameter* that we want to estimate.\n",
    "That is, the probability mass function of $D_i$ is given by\n",
    "$$ \\mathbb{P}[D_i=d] = (1-\\theta)^{d-1}\\theta, \\quad \\text{for } d=1,2,\\ldots. $$"
   ]
  },
  {
   "cell_type": "markdown",
   "metadata": {
    "id": "THV6C0PTfwS4"
   },
   "source": [
    "#1.1 MLE with uncensored demand data\n",
    "Within this problem, we assume that we have observed the *uncensored* demand realizations $D_1, \\ldots, D_n$ over past $n$ days (these quantities are the maximum number of copies that could have been sold, which are in fact unobservable)."
   ]
  },
  {
   "cell_type": "markdown",
   "metadata": {
    "id": "JZ2wC_mGuU5B"
   },
   "source": [
    "**Your task is to implement the following two functions**:\n",
    "\n",
    "\n",
    "*   `log_likelihood_uncensored()` that takes two arguments -- a real number $\\theta \\in (0,1)$ and a numpy array $(D_1,\\ldots,D_n)$, and should return the log-likelihood value $\\log p(D_1,\\ldots,D_n|\\theta)$.\n",
    "*   `MLE_uncensored()` that takes a numpy array $(D_1,\\ldots,D_n)$ and should return the maximum likelihood estimation result (i.e., the value of $\\theta$ that maximizes the likelihood).\n",
    "\n"
   ]
  },
  {
   "cell_type": "code",
   "execution_count": 29,
   "metadata": {
    "id": "6LZPCVO4hUCE"
   },
   "outputs": [],
   "source": [
    "def log_likelihood_uncensored( theta, Ds ):\n",
    "  return np.sum(Ds * np.log(theta) + (1 - Ds) * np.log(1 - theta))"
   ]
  },
  {
   "cell_type": "code",
   "execution_count": 30,
   "metadata": {
    "id": "FVxvVA6UqQ7B"
   },
   "outputs": [],
   "source": [
    "def MLE_uncensored( Ds ):\n",
    "  return np.mean(Ds)"
   ]
  },
  {
   "cell_type": "markdown",
   "metadata": {
    "id": "PoIPHtuoMqGI"
   },
   "source": [
    "Your code will be evaluated using the code below: **after implementing above two functions, please execute the following cell**. This code performs MLE using 10 days of data."
   ]
  },
  {
   "cell_type": "code",
   "execution_count": 31,
   "metadata": {
    "colab": {
     "base_uri": "https://localhost:8080/",
     "height": 299
    },
    "executionInfo": {
     "elapsed": 799,
     "status": "ok",
     "timestamp": 1666448432363,
     "user": {
      "displayName": "Seungki Min",
      "userId": "14525492506736966203"
     },
     "user_tz": -540
    },
    "id": "YAreCgQ5dMR6",
    "outputId": "650eccdd-93c4-4128-fd72-85396d0963a2"
   },
   "outputs": [
    {
     "name": "stdout",
     "output_type": "stream",
     "text": [
      "MLE result = 23.800000\n"
     ]
    },
    {
     "name": "stderr",
     "output_type": "stream",
     "text": [
      "C:\\Users\\lunar\\AppData\\Local\\Temp\\ipykernel_23652\\2625578475.py:2: RuntimeWarning: invalid value encountered in log\n",
      "  return np.sum(Ds * np.log(theta) + (1 - Ds) * np.log(1 - theta))\n"
     ]
    },
    {
     "data": {
      "image/png": "[encoded data removed]",
      "text/plain": [
       "<Figure size 640x480 with 1 Axes>"
      ]
     },
     "metadata": {},
     "output_type": "display_data"
    }
   ],
   "source": [
    "Ds = np.array([16, 25, 18, 16, 11, 21, 12, 44, 65, 10])\n",
    "\n",
    "theta_MLE_uncensored = MLE_uncensored(Ds)\n",
    "\n",
    "thetas = np.linspace(0.001,0.1,100)\n",
    "pyplot.plot( thetas, [log_likelihood_uncensored(t, Ds) for t in thetas] )\n",
    "pyplot.plot( theta_MLE_uncensored, log_likelihood_uncensored(theta_MLE_uncensored, Ds), '*', ms=10 )\n",
    "\n",
    "pyplot.grid(True)\n",
    "pyplot.xlabel( r\"$\\theta$\" )\n",
    "pyplot.ylabel( r\"log-likelihood\" )\n",
    "\n",
    "print( \"MLE result = %f\" % theta_MLE_uncensored )"
   ]
  },
  {
   "cell_type": "markdown",
   "metadata": {
    "id": "xxHWI2PzULzH"
   },
   "source": [
    "#1.2 MLE with censored demand data\n",
    "In reality, we can only observe the actual number of copies sold on each day, called the *censored* demand.\n",
    "For example, if the newsboy had ordered 20 copies on day 1 and the demand of the day was 30 copies, the realized sales would be 20 copies.\n",
    "More formally, the censored demand $X_i$ on day $i$ is given by\n",
    "$$ X_i = \\min\\{ D_i, q_i \\}, $$\n",
    "where $q_i$ is the number of copies that the newsboy initially had at the beginning of day $i$."
   ]
  },
  {
   "cell_type": "markdown",
   "metadata": {
    "id": "JfTTE-LlKul0"
   },
   "source": [
    "**Your task is to implement the following two functions**:\n",
    "\n",
    "\n",
    "*   `log_likelihood_censored()` that takes three arguments -- a real number $\\theta \\in (0,1)$, a numpy array $(X_1,\\ldots,X_n)$, and another numpy array $(q_1,\\ldots,q_n)$. It should return the log-likelihood value $\\log p(X_1,\\ldots,X_n|\\theta,q_1,\\ldots,q_n)$.\n",
    "*   `MLE_censored()` that takes two arguments -- a numpy array $(X_1,\\ldots,X_n)$, and another numpy array $(q_1,\\ldots,q_n)$. It should return the maximum likelihood estimation result (i.e., the value of $\\theta$ that maximizes the likelihood).\n",
    "\n",
    "(**Hint**: consider two cases, ''$X_i = q_i$'' and ''$X_i < q_i$'', separately)\n"
   ]
  },
  {
   "cell_type": "code",
   "execution_count": 32,
   "metadata": {
    "id": "YnJuSO4HR6XQ"
   },
   "outputs": [],
   "source": [
    "def log_likelihood_censored( theta, Xs, qs ):\n",
    "    uncensored_log_likelihood = (Xs < qs) * (Xs * np.log(1 - theta) + np.log(theta))\n",
    "    censored_log_likelihood = (Xs == qs) * (qs * np.log(1 - theta))\n",
    "    \n",
    "    total_log_likelihood = np.sum(uncensored_log_likelihood + censored_log_likelihood)\n",
    "    return total_log_likelihood"
   ]
  },
  {
   "cell_type": "code",
   "execution_count": 33,
   "metadata": {
    "id": "q3bFPjr1LGYi"
   },
   "outputs": [],
   "source": [
    "def MLE_censored( Xs, qs ):\n",
    "    def objective(theta):\n",
    "        return -log_likelihood_censored(theta[0], Xs, qs)\n",
    "    \n",
    "    initial_guess = [0.5]\n",
    "    \n",
    "    result = minimize(objective, initial_guess, bounds=[(1e-5, 1 - 1e-5)])\n",
    "    \n",
    "    return result.x[0]"
   ]
  },
  {
   "cell_type": "markdown",
   "metadata": {
    "id": "q23idWAb8B9f"
   },
   "source": [
    "Your code will be evaluated using the code below: **after implementing above two functions, please execute the following cell**. This code performs MLE using 10 days of data."
   ]
  },
  {
   "cell_type": "code",
   "execution_count": 34,
   "metadata": {
    "colab": {
     "base_uri": "https://localhost:8080/",
     "height": 299
    },
    "executionInfo": {
     "elapsed": 15,
     "status": "ok",
     "timestamp": 1666448432364,
     "user": {
      "displayName": "Seungki Min",
      "userId": "14525492506736966203"
     },
     "user_tz": -540
    },
    "id": "iVZ7aEUkLSHj",
    "outputId": "590776b2-bf0d-44db-f4ea-b4b462dba0fa"
   },
   "outputs": [
    {
     "name": "stdout",
     "output_type": "stream",
     "text": [
      "MLE result = 0.036649\n"
     ]
    },
    {
     "data": {
      "image/png": "[encoded data removed]",
      "text/plain": [
       "<Figure size 640x480 with 1 Axes>"
      ]
     },
     "metadata": {},
     "output_type": "display_data"
    }
   ],
   "source": [
    "Ds = np.array([16, 25, 18, 16, 11, 21, 12, 44, 65, 10])\n",
    "qs = np.array([20, 20, 20, 20, 20, 30, 30, 30, 30, 30])\n",
    "Xs = np.minimum( Ds, qs )\n",
    "\n",
    "theta_MLE_censored = MLE_censored(Xs, qs)\n",
    "\n",
    "thetas = np.linspace(0.001,0.1,100)\n",
    "pyplot.plot( thetas, [log_likelihood_censored(t, Xs, qs) for t in thetas] )\n",
    "pyplot.plot( theta_MLE_censored, log_likelihood_censored(theta_MLE_censored, Xs, qs), '*', ms=10 )\n",
    "\n",
    "pyplot.grid(True)\n",
    "pyplot.xlabel( r\"$\\theta$\" )\n",
    "pyplot.ylabel( r\"log-likelihood\" )\n",
    "\n",
    "print( \"MLE result = %f\" % theta_MLE_censored )"
   ]
  },
  {
   "cell_type": "markdown",
   "metadata": {
    "id": "oVk6h8WI_Div"
   },
   "source": [
    "#1.3 Accuracy of MLE\n",
    "Suppose that the ground truth model is given by $\\theta = 0.05$, and we have $n=100$ days of censored demand data. Additionally assume that the newsboy had ordered 30 copies: i.e., $q_1 = q_2 = \\ldots = q_n = 30$.\n"
   ]
  },
  {
   "cell_type": "code",
   "execution_count": 35,
   "metadata": {
    "id": "j67SDYxBBpjW"
   },
   "outputs": [],
   "source": [
    "theta_true = 0.05\n",
    "n = 100\n",
    "qs = 30*np.ones(n)"
   ]
  },
  {
   "cell_type": "markdown",
   "metadata": {
    "id": "3PI93vmxBrA-"
   },
   "source": [
    "\n",
    "**Your task is to quantify the accuracy of MLE in this situation using simulation.**  More specifically, generate uncensored demand $(D_1,\\ldots,D_n)$ 1000 times, and for each generated $(D_1,\\ldots,D_n)$, perform MLE with respect to censored demand $(X_1,\\ldots,X_n$) where $X_i = \\min(D_i,q_i)$. Then, you will have 1000 MLE results. Draw a histogram of these MLE results."
   ]
  },
  {
   "cell_type": "code",
   "execution_count": 36,
   "metadata": {
    "colab": {
     "base_uri": "https://localhost:8080/",
     "height": 305
    },
    "executionInfo": {
     "elapsed": 13,
     "status": "ok",
     "timestamp": 1666448432365,
     "user": {
      "displayName": "Seungki Min",
      "userId": "14525492506736966203"
     },
     "user_tz": -540
    },
    "id": "81OrkCDIDGmP",
    "outputId": "0349e442-f034-40e3-ad8f-839119fe40a3"
   },
   "outputs": [
    {
     "data": {
      "text/plain": [
       "Text(0.5, 0, '$\\\\hat{\\\\theta}_{MLE}$')"
      ]
     },
     "execution_count": 36,
     "metadata": {},
     "output_type": "execute_result"
    },
    {
     "data": {
      "image/png": "[encoded data removed]",
      "text/plain": [
       "<Figure size 640x480 with 1 Axes>"
      ]
     },
     "metadata": {},
     "output_type": "display_data"
    }
   ],
   "source": [
    "MLE_results = np.zeros(1000)\n",
    "\n",
    "for s in range(1000):\n",
    "    D = np.random.poisson(theta_true * qs)\n",
    "\n",
    "    X = np.minimum(D, qs)\n",
    "\n",
    "    theta_hat = np.mean(X / qs)\n",
    "    \n",
    "    MLE_results[s] = theta_hat\n",
    "\n",
    "pyplot.hist( MLE_results, bins=np.linspace( 0, 0.1, 41 ) )\n",
    "pyplot.xlabel( r\"$\\hat{\\theta}_{MLE}$\" )"
   ]
  },
  {
   "cell_type": "markdown",
   "metadata": {
    "id": "MLEKvcLXF4qY"
   },
   "source": [
    "For your information, a single-time random generation of uncensored demand data can be done as follows:"
   ]
  },
  {
   "cell_type": "code",
   "execution_count": 37,
   "metadata": {
    "colab": {
     "base_uri": "https://localhost:8080/"
    },
    "executionInfo": {
     "elapsed": 11,
     "status": "ok",
     "timestamp": 1666448432365,
     "user": {
      "displayName": "Seungki Min",
      "userId": "14525492506736966203"
     },
     "user_tz": -540
    },
    "id": "abZHdnsM8S1A",
    "outputId": "d406eb93-3aa1-4c16-992f-d3c5a802b78e"
   },
   "outputs": [
    {
     "name": "stdout",
     "output_type": "stream",
     "text": [
      "[22 25 27  9  1 65 18  3  1 20 13 55 28 28 59 37 32 21 39 14 54 38 19 31\n",
      " 27 39  9 15 34 17 25 10  2  8 50  2 45 23 26 76 32 35 10  9  3  8  1 30\n",
      " 31 16 13  4 12 12  1  9 20  4  5 29  7 12  7 27 16  2 13 27  7 27  1  2\n",
      "  3 41 13 22 67 16  7 35 29 15 15  7 21 18  1 26 40 44  8 11  6  6 46  9\n",
      " 22 11 55  7]\n"
     ]
    }
   ],
   "source": [
    "Ds = scipy.stats.geom.rvs(theta_true, size=n)\n",
    "print( Ds )"
   ]
  },
  {
   "cell_type": "markdown",
   "metadata": {
    "id": "p1EsuIh0GOir"
   },
   "source": [
    "Your code will be evaluated using the code below: **after implementing above simulation code, please execute the following cell**. This code computes how much the MLE result can be different from the true parameter value."
   ]
  },
  {
   "cell_type": "code",
   "execution_count": 38,
   "metadata": {
    "colab": {
     "base_uri": "https://localhost:8080/"
    },
    "executionInfo": {
     "elapsed": 576,
     "status": "ok",
     "timestamp": 1666448432931,
     "user": {
      "displayName": "Seungki Min",
      "userId": "14525492506736966203"
     },
     "user_tz": -540
    },
    "id": "GeTsybEKF28x",
    "outputId": "f3186f48-ba81-4155-ef4b-b3443f4cec9c"
   },
   "outputs": [
    {
     "name": "stdout",
     "output_type": "stream",
     "text": [
      "likelihood of under-estimation (<0.04) = 0.009000\n",
      "likelihood of over-estimation (>0.06) = 0.012000\n"
     ]
    }
   ],
   "source": [
    "print( \"likelihood of under-estimation (<0.04) = %f\" % np.mean(MLE_results < 0.04) )\n",
    "print( \"likelihood of over-estimation (>0.06) = %f\" % np.mean(MLE_results > 0.06) )"
   ]
  },
  {
   "cell_type": "markdown",
   "metadata": {
    "id": "0AX8RXhKHtaW"
   },
   "source": [
    "#1.4 Bayesian inference with uncensored demand data\n",
    "\n",
    "We now consider the Bayesian setting: we treat the unknown model parameter $\\theta$ as a random variable and assume its prior distribution is given by\n",
    "$$ \\theta \\sim \\text{Uniform}(0,1). $$"
   ]
  },
  {
   "cell_type": "markdown",
   "metadata": {
    "id": "M-yJYCOtKkTm"
   },
   "source": [
    "**Your task is to implement the following three functions**:\n",
    "\n",
    "\n",
    "*   `posterior_density_censored()` that takes three arguments -- a real number $\\theta \\in (0,1)$, a numpy array $(X_1,\\ldots,X_n)$, and another numpy array $(q_1,\\ldots,q_n)$. It should return the probability density $p(\\theta | X_1,q_1,\\ldots,X_n,q_n)$ as a function of $\\theta$.\n",
    "*   `MAP_censored()` that takes two arguments -- a numpy array $(X_1,\\ldots,X_n)$, and another numpy array $(q_1,\\ldots,q_n)$. It should return the maximum a posteriori (MAP) estimation result (i.e., the value of $\\theta$ that maximizes the posterior density).\n",
    "*   `posterior_mean_censored()` that takes two arguments -- a numpy array $(X_1,\\ldots,X_n)$, and another numpy array $(q_1,\\ldots,q_n)$. It should return the posterior mean, i.e., $\\mathbb{E}[\\theta|X_1,q_1,\\ldots,X_n,q_n]$.\n",
    "\n",
    "(**Hint**: the prior and the posterior can be represented as Beta distributions)\n",
    "\n"
   ]
  },
  {
   "cell_type": "code",
   "execution_count": 39,
   "metadata": {
    "id": "6piN2xX5HHUb"
   },
   "outputs": [],
   "source": [
    "def posterior_density_censored( theta, Xs, qs ):\n",
    "    s = np.sum(Xs < qs)\n",
    "    T = np.sum(Xs - 1)\n",
    "    alpha = s + 1\n",
    "    beta_param = T + 1\n",
    "    density = beta.pdf(theta, alpha, beta_param)\n",
    "    return density"
   ]
  },
  {
   "cell_type": "code",
   "execution_count": null,
   "metadata": {
    "id": "4_6H6mXJKIfj"
   },
   "outputs": [],
   "source": [
    "def MAP_censored( Xs, qs ):\n",
    "    s = np.sum(Xs < qs)\n",
    "    T = np.sum(Xs - 1)\n",
    "    alpha = s + 1\n",
    "    beta_param = T + 1\n",
    "    if alpha > 1 and beta_param > 1:\n",
    "        theta_map = (alpha - 1) / (alpha + beta_param - 2)\n",
    "    elif alpha <= 1 and beta_param > 1:\n",
    "        theta_map = 0.0\n",
    "    elif alpha > 1 and beta_param <= 1:\n",
    "        theta_map = 1.0\n",
    "    else:\n",
    "        theta_map = np.nan\n",
    "    return theta_map"
   ]
  },
  {
   "cell_type": "code",
   "execution_count": 41,
   "metadata": {
    "id": "tLPnuE0QJ0Ei"
   },
   "outputs": [],
   "source": [
    "def posterior_mean_censored( Xs, qs ):\n",
    "    s = np.sum(Xs < qs)\n",
    "    T = np.sum(Xs - 1)\n",
    "    alpha = s + 1\n",
    "    beta_param = T + 1\n",
    "    theta_mean = alpha / (alpha + beta_param)\n",
    "    return theta_mean\n"
   ]
  },
  {
   "cell_type": "markdown",
   "metadata": {
    "id": "BOXuCiHuKQlw"
   },
   "source": [
    "Your code will be evaluated using the code below: **after implementing above three functions, please execute the following cell**. This code computes MAP and the posterior mean using 10 days of data."
   ]
  },
  {
   "cell_type": "code",
   "execution_count": 43,
   "metadata": {
    "colab": {
     "base_uri": "https://localhost:8080/",
     "height": 317
    },
    "executionInfo": {
     "elapsed": 10,
     "status": "ok",
     "timestamp": 1666448432933,
     "user": {
      "displayName": "Seungki Min",
      "userId": "14525492506736966203"
     },
     "user_tz": -540
    },
    "id": "eT4G4QWMKNBe",
    "outputId": "f8e9d59e-df2a-4015-8483-962bfda44944"
   },
   "outputs": [
    {
     "name": "stdout",
     "output_type": "stream",
     "text": [
      "MAP result = 0.038674\n",
      "posterior mean = 0.043716\n"
     ]
    },
    {
     "data": {
      "image/png": "[encoded data removed]",
      "text/plain": [
       "<Figure size 640x480 with 1 Axes>"
      ]
     },
     "metadata": {},
     "output_type": "display_data"
    }
   ],
   "source": [
    "Ds = np.array([16, 25, 18, 16, 11, 21, 12, 44, 65, 10])\n",
    "qs = np.array([20, 20, 20, 20, 20, 30, 30, 30, 30, 30])\n",
    "Xs = np.minimum( Ds, qs )\n",
    "\n",
    "theta_MAP_censored = MAP_censored(Xs, qs)\n",
    "theta_PM_censored = posterior_mean_censored(Xs, qs)\n",
    "\n",
    "thetas = np.linspace(0.001,0.1,100)\n",
    "pyplot.plot( thetas, [posterior_density_censored(t, Xs, qs) for t in thetas] )\n",
    "pyplot.axvline( theta_MAP_censored, c='r', ls='--' )\n",
    "pyplot.axvline( theta_PM_censored, c='g', ls='--' )\n",
    "\n",
    "pyplot.grid(True)\n",
    "pyplot.xlabel( r\"$\\theta$\" )\n",
    "pyplot.ylabel( r\"Posterior density\" )\n",
    "\n",
    "print( \"MAP result = %f\" % theta_MAP_censored )\n",
    "print( \"posterior mean = %f\" % theta_PM_censored )"
   ]
  }
 ],
 "metadata": {
  "colab": {
   "authorship_tag": "ABX9TyP8QsGYeaYwOcCz8Y7Dhx0R",
   "provenance": []
  },
  "kernelspec": {
   "display_name": ".venv",
   "language": "python",
   "name": "python3"
  },
  "language_info": {
   "codemirror_mode": {
    "name": "ipython",
    "version": 3
   },
   "file_extension": ".py",
   "mimetype": "text/x-python",
   "name": "python",
   "nbconvert_exporter": "python",
   "pygments_lexer": "ipython3",
   "version": "3.12.4"
  }
 },
 "nbformat": 4,
 "nbformat_minor": 0
}
